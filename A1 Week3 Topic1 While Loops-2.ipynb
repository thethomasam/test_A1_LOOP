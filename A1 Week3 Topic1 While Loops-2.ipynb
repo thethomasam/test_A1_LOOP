{
 "cells": [
  {
   "cell_type": "code",
   "execution_count": 49,
   "metadata": {},
   "outputs": [],
   "source": [
    "import pandas as pd\n",
    "import numpy as np\n",
    "%matplotlib inline\n",
    "import otter\n",
    "grader = otter.Notebook()"
   ]
  },
  {
   "cell_type": "markdown",
   "metadata": {},
   "source": [
    "# A1 | Week 3: Practice While Loops\n",
    "\n",
    "------\n",
    "\n",
    "### Instructions:\n",
    "\n",
    "- Complete 50 points worth of questions to pass the assessment\n",
    "  - You can attempt any number of questions and in any order provided you pass at least 50 points.\n",
    "- Develop and check your answers in the spaces provided.\n",
    "  - Do not remove any variables other provided markings already present in the answer spaces.\n",
    "  - Do not make any changes to this notebook outside of the answer spaces provided.\n",
    "  \n",
    "#### Submitting\n",
    "\n",
    "- Upload your .ipynb file to Gradescope (Make sure to restart the kernel and run all before you submit)\n",
    "- You can submit as many times as needed\n",
    "- When reviewing results, ignore any results listed under \"Public Tests\"\n",
    "\n",
    "For more information, see the assessment page. We have also provided an example question below for clarity. "
   ]
  },
  {
   "cell_type": "markdown",
   "metadata": {},
   "source": [
    "#### Example Question\n",
    "Write a Python program to display the first 10 integer numbers starting with 1 using while loops. Create the variable `example_output` and use it inside the while loop to construct the string that you want to display at the end of the program.\n",
    "\n",
    "```\n",
    "#This solution is for demonstration purposes ONLY. \n",
    "#There may be other ways of doing this task using while loops that produce the same output.\n",
    "#You have the freedom to use a solution that you prefer as long as it uses while loop and \n",
    "#produces the expected output using the example_output variable.\n",
    "example_output = \"\"\n",
    "example_count = 1\n",
    "while example_count <= 10:\n",
    "    example_output += str(example_count)\n",
    "    example_output += \"\\n\"\n",
    "    example_count += 1\n",
    "example_output = example_output.strip() #this is to remove the extra new line in 10\n",
    "print(example_output)\n",
    "```"
   ]
  },
  {
   "cell_type": "markdown",
   "metadata": {},
   "source": [
    "#### Question 1&nbsp;&nbsp;&nbsp;&nbsp;&nbsp;&nbsp;(1 Point)\n",
    "Write a Python program to display integer numbers starting with 190 to 200 using while loops. Create the variable `output1` and use it inside the while loop to construct the string that you want to display at the end of the program.\n",
    "\n",
    "Expected Output:   \n",
    "190  \n",
    "191  \n",
    "192  \n",
    "193  \n",
    "194  \n",
    "195  \n",
    "196  \n",
    "197  \n",
    "198  \n",
    "199  \n",
    "200"
   ]
  },
  {
   "cell_type": "code",
   "execution_count": 145,
   "metadata": {
    "tags": []
   },
   "outputs": [
    {
     "data": {
      "text/plain": [
       "'190\\n191\\n192\\n193\\n194\\n195\\n196\\n197\\n198\\n199\\n200'"
      ]
     },
     "execution_count": 145,
     "metadata": {},
     "output_type": "execute_result"
    }
   ],
   "source": [
    "i=190\n",
    "output1=\"\"\n",
    "while (i<=200):\n",
    "    \n",
    "    output1 += str(i)+\"\\n\"\n",
    "    i=i+1\n",
    "# Write your solution here\n",
    "output1=output1.strip()\n",
    "output1"
   ]
  },
  {
   "cell_type": "markdown",
   "metadata": {},
   "source": [
    "#### Question 2&nbsp;&nbsp;&nbsp;&nbsp;&nbsp;&nbsp;(1 Point)\n",
    "Write a Python program to display the first 10 even numbers starting with 0 using while loops. Create the variable `output2` and use  it inside the while loop to construct the string that you want to display at the end of the program.\n",
    "\n",
    "*Note: The displayed string should be in the same format as in Q1. For clarity, the expected output is shown below.*\n",
    "\n",
    "Expected Output:\n",
    "<p>\n",
    "0<br> \n",
    "2<br> \n",
    "4<br> \n",
    "6<br> \n",
    "8<br> \n",
    "10<br> \n",
    "12<br>\n",
    "14<br> \n",
    "16<br> \n",
    "18\n",
    "</p>"
   ]
  },
  {
   "cell_type": "code",
   "execution_count": 51,
   "metadata": {
    "tags": []
   },
   "outputs": [
    {
     "name": "stdout",
     "output_type": "stream",
     "text": [
      "0\n",
      "2\n",
      "4\n",
      "6\n",
      "8\n",
      "10\n",
      "12\n",
      "14\n",
      "16\n",
      "18\n",
      "\n"
     ]
    }
   ],
   "source": [
    "i=0\n",
    "\n",
    "output2=\"\"\n",
    "while(i<20):\n",
    "\n",
    "    if i%2==0:\n",
    "        output2+=str(i)+\"\\n\"\n",
    "    i=i+1\n",
    "# Write your solution here\n",
    "output2=output2.strip()\n",
    "print(output2)"
   ]
  },
  {
   "cell_type": "markdown",
   "metadata": {},
   "source": [
    "#### Question 3&nbsp;&nbsp;&nbsp;&nbsp;&nbsp;&nbsp;(1 Point)\n",
    "Write a Python program to display the following series using while loops: `30, 40, 50, 60, 70, 80, 90, ..., 300`. Create the variable `output3` and use  it inside the while loop to construct the string that you want to display at the end of the program.\n",
    "\n",
    "*Note: The displayed string should be in the same format as in Q1. For clarity, the expected output is shown below.*\n",
    "\n",
    "Expected Output:\n",
    "<p>\n",
    "30<br> \n",
    "40<br> \n",
    "50<br> \n",
    "60<br> \n",
    "70<br> \n",
    "80<br> \n",
    "90<br> \n",
    "...<br> \n",
    "300\n",
    "</p>"
   ]
  },
  {
   "cell_type": "code",
   "execution_count": 146,
   "metadata": {
    "tags": []
   },
   "outputs": [
    {
     "name": "stdout",
     "output_type": "stream",
     "text": [
      "30\n",
      "40\n",
      "50\n",
      "60\n",
      "70\n",
      "80\n",
      "90\n",
      "100\n",
      "110\n",
      "120\n",
      "130\n",
      "140\n",
      "150\n",
      "160\n",
      "170\n",
      "180\n",
      "190\n",
      "200\n",
      "210\n",
      "220\n",
      "230\n",
      "240\n",
      "250\n",
      "260\n",
      "270\n",
      "280\n",
      "290\n",
      "300\n"
     ]
    }
   ],
   "source": [
    "i=30\n",
    "\n",
    "output3=\"\"\n",
    "while(i<=300):\n",
    "    output3+=str(i)+\"\\n\"\n",
    "    i=i+10\n",
    "    \n",
    "\n",
    "   \n",
    "\n",
    "# Write your solution here\n",
    "output3=output3.strip()\n",
    "print(output3)"
   ]
  },
  {
   "cell_type": "markdown",
   "metadata": {},
   "source": [
    "#### Question 4&nbsp;&nbsp;&nbsp;&nbsp;&nbsp;&nbsp;(1 Point)\n",
    "Write a Python program to display the squares of integer numbers divisible by 4 until 200 (inclusive) using while loops. Create the variable `output4` and use it inside the while loop to construct the string that you want to display at the end of the program. (Expected output series: 16, ..., 40000)\n",
    "\n",
    "*Note: The displayed string should be in the same format as in Q1.*"
   ]
  },
  {
   "cell_type": "code",
   "execution_count": 53,
   "metadata": {
    "tags": []
   },
   "outputs": [
    {
     "name": "stdout",
     "output_type": "stream",
     "text": [
      "16\n",
      "64\n",
      "144\n",
      "256\n",
      "400\n",
      "576\n",
      "784\n",
      "1024\n",
      "1296\n",
      "1600\n",
      "1936\n",
      "2304\n",
      "2704\n",
      "3136\n",
      "3600\n",
      "4096\n",
      "4624\n",
      "5184\n",
      "5776\n",
      "6400\n",
      "7056\n",
      "7744\n",
      "8464\n",
      "9216\n",
      "10000\n",
      "10816\n",
      "11664\n",
      "12544\n",
      "13456\n",
      "14400\n",
      "15376\n",
      "16384\n",
      "17424\n",
      "18496\n",
      "19600\n",
      "20736\n",
      "21904\n",
      "23104\n",
      "24336\n",
      "25600\n",
      "26896\n",
      "28224\n",
      "29584\n",
      "30976\n",
      "32400\n",
      "33856\n",
      "35344\n",
      "36864\n",
      "38416\n",
      "40000\n",
      "\n"
     ]
    }
   ],
   "source": [
    "i=4\n",
    "output4=\"\"\n",
    "while(i<=200):\n",
    "\n",
    "    \n",
    "    output4 +=str(i**2)+\"\\n\"\n",
    "    i=i+4\n",
    "\n",
    "# Write your solution here\n",
    "\n",
    "print(output4)"
   ]
  },
  {
   "cell_type": "markdown",
   "metadata": {},
   "source": [
    "#### Question 5&nbsp;&nbsp;&nbsp;&nbsp;&nbsp;&nbsp;(1 Point)\n",
    "Write a Python program to print the following series using while loops: `120, 116, 112, ..., 36`. Create the variable `output5` and use it inside the while loop to construct the string that you want to display at the end of the program.\n",
    "\n",
    "*Note: The displayed string should be in the same format as in Q1.*"
   ]
  },
  {
   "cell_type": "code",
   "execution_count": 54,
   "metadata": {
    "tags": []
   },
   "outputs": [
    {
     "name": "stdout",
     "output_type": "stream",
     "text": [
      "120\n",
      "116\n",
      "112\n",
      "108\n",
      "104\n",
      "100\n",
      "96\n",
      "92\n",
      "88\n",
      "84\n",
      "80\n",
      "76\n",
      "72\n",
      "68\n",
      "64\n",
      "60\n",
      "56\n",
      "52\n",
      "48\n",
      "44\n",
      "40\n",
      "36\n",
      "\n"
     ]
    }
   ],
   "source": [
    "i=120\n",
    "output5=\"\"\n",
    "while(i>=36):\n",
    "\n",
    "    \n",
    "    output5 +=str(i)+\"\\n\"\n",
    "    i-=4\n",
    "\n",
    "\n",
    "\n",
    "print(output5)"
   ]
  },
  {
   "cell_type": "markdown",
   "metadata": {},
   "source": [
    "#### Question 6&nbsp;&nbsp;&nbsp;&nbsp;&nbsp;&nbsp;(3 Points)\n",
    "Write a Python program that adds all the odd numbers until 300 (inclusive) using while loops. Create the variable `ouput6` and use it inside the while loop for the calculations needed. Print `output6` at the end of the program to check if it works correctly."
   ]
  },
  {
   "cell_type": "code",
   "execution_count": 147,
   "metadata": {
    "tags": []
   },
   "outputs": [],
   "source": [
    "output6 = 0\n",
    "i=1\n",
    "output6=0\n",
    "while(i<=300):\n",
    "    if i%2==1:\n",
    "        output6+=i\n",
    "    i+=1\n",
    "# Write your solution here\n",
    "\n"
   ]
  },
  {
   "cell_type": "markdown",
   "metadata": {},
   "source": [
    "#### Question 7&nbsp;&nbsp;&nbsp;&nbsp;&nbsp;&nbsp;(3 Points) \n",
    "Write a Python program to calculate the total of first 10 integer numbers using while loops. However, if the number is divisible by 5, do not use them to calculate the total value. Create the variable `output7` and use it inside the while loop for the calculations needed. [Expected output: 40]\n",
    "***\n",
    "<details>\n",
    "  <summary><span style=\"color:blue\">Click to see Hints</span></summary>\n",
    "    \n",
    "* You will need to use `continue` statement. This statement rejects all the remaining statements in the current iteration of the loop and moves the control back to the top of the loop.\n",
    "</details>"
   ]
  },
  {
   "cell_type": "code",
   "execution_count": 152,
   "metadata": {
    "tags": []
   },
   "outputs": [
    {
     "name": "stdout",
     "output_type": "stream",
     "text": [
      "0\n"
     ]
    }
   ],
   "source": [
    "i=0\n",
    "sum=0\n",
    "while(i<10):\n",
    "    if i%5 !=0:\n",
    "        sum+=i\n",
    "    i+=1\n",
    "\n",
    "print(output7)"
   ]
  },
  {
   "cell_type": "markdown",
   "metadata": {},
   "source": [
    "#### Question 8&nbsp;&nbsp;&nbsp;&nbsp;&nbsp;&nbsp;(3 Points) \n",
    "Write a Python program to calculate the total of first 20 integer numbers using while loops. However, if the program encounters a number that is divisible by 10 between 1 to 20, stop looping at the very moment and  calculate the total value until that point (i.e., excluding the number that is divisible by 10 and the numbers after that are also excluded). Create the variables `output8` and use it in the program for the calculations needed. [Expected output: 45]\n",
    "***\n",
    "<details>\n",
    "  <summary><span style=\"color:blue\">Click to see Hints</span></summary>\n",
    "    \n",
    "* You will need to use `break` statement. This will terminate the current loop.\n",
    "</details>"
   ]
  },
  {
   "cell_type": "code",
   "execution_count": 158,
   "metadata": {
    "tags": []
   },
   "outputs": [
    {
     "name": "stdout",
     "output_type": "stream",
     "text": [
      "45\n"
     ]
    }
   ],
   "source": [
    "i=1\n",
    "sum=0\n",
    "output7=0\n",
    "while(i<20):\n",
    "    if i%10==0:\n",
    "       \n",
    "        break\n",
    "    output7+=i\n",
    "    i+=1\n",
    "\n",
    "print(output7)"
   ]
  },
  {
   "cell_type": "markdown",
   "metadata": {},
   "source": [
    "#### Question 9&nbsp;&nbsp;&nbsp;&nbsp;&nbsp;&nbsp;(3 Points)\n",
    "Write a Python program to display the average (rounded to two decimal places) of all the numbers which are divisible by 13 but not by 3 between 300 and 600.(exclusive both numbers) using while loop. Use the variable `output9` to assign the solution to it."
   ]
  },
  {
   "cell_type": "code",
   "execution_count": 58,
   "metadata": {
    "tags": []
   },
   "outputs": [],
   "source": [
    "# Write your solution here\n",
    "\n"
   ]
  },
  {
   "cell_type": "markdown",
   "metadata": {},
   "source": [
    "#### Question 10&nbsp;&nbsp;&nbsp;&nbsp;&nbsp;&nbsp;(3 Points)\n",
    "Write a Python program to display the following pattern using while loops. Create the variable `output10` and use it inside the while loop to construct the string that you want to display at the end of the program.\n",
    "<p>\n",
    "*<br>\n",
    "**<br>\n",
    "***<br>\n",
    "****<br>\n",
    "*****<br>\n",
    "</p>"
   ]
  },
  {
   "cell_type": "code",
   "execution_count": 162,
   "metadata": {
    "tags": []
   },
   "outputs": [
    {
     "data": {
      "text/plain": [
       "'*\\n**\\n***\\n****\\n*****'"
      ]
     },
     "execution_count": 162,
     "metadata": {},
     "output_type": "execute_result"
    }
   ],
   "source": [
    "output10 = \"\"\n",
    "\n",
    "# Write your solution here\n",
    "\n",
    "for i in range(1,6):\n",
    "    for j in range(i):\n",
    "        output10+=\"*\"\n",
    "    output10+=\"\\n\"\n",
    "        \n",
    "output10=output10.strip()\n",
    "'*\\n**\\n***\\n****\\n*****'"
   ]
  },
  {
   "cell_type": "markdown",
   "metadata": {},
   "source": [
    "#### Question 11&nbsp;&nbsp;&nbsp;&nbsp;&nbsp;&nbsp;(4 Points)\n",
    "Write a Python program to display the following pattern using while loops. Create the variable `output11` and use it inside the while loop to construct the string that you want to display at the end of the program.\n",
    "<p>\n",
    "1<br>\n",
    "22<br>\n",
    "333<br>\n",
    "4444<br>\n",
    "55555<br>\n",
    "666666<br>\n",
    "7777777<br>\n",
    "88888888<br>\n",
    "999999999<br>\n",
    "</p>"
   ]
  },
  {
   "cell_type": "code",
   "execution_count": 168,
   "metadata": {
    "tags": []
   },
   "outputs": [
    {
     "data": {
      "text/plain": [
       "'1\\n22\\n333\\n4444\\n55555\\n666666\\n7777777\\n88888888\\n999999999'"
      ]
     },
     "execution_count": 168,
     "metadata": {},
     "output_type": "execute_result"
    }
   ],
   "source": [
    "output11 = \"\"\n",
    "for i in range(1,10):\n",
    "    for j in range(i):\n",
    "        output11+=str(i)\n",
    "    output11+=\"\\n\"\n",
    "        \n",
    "output11=output11.strip()\n",
    "# Write your solution here\n",
    "\n",
    "output11\n",
    "'1\\n22\\n333\\n4444\\n55555\\n666666\\n7777777\\n88888888\\n999999999'"
   ]
  },
  {
   "cell_type": "markdown",
   "metadata": {},
   "source": [
    "#### Question 12&nbsp;&nbsp;&nbsp;&nbsp;&nbsp;&nbsp;(4 Points)\n",
    "Write a Python program to display numbers that are divisible by 9 and multiple of 5, between 1000 and 2000 (including 1000 and 2000) using while loops. Create the variable `output12` and use it inside the while loop to construct the string that you want to display at the end of the program.\n",
    "\n",
    "*Note: The displayed string should be in the same format as in Q1.*"
   ]
  },
  {
   "cell_type": "code",
   "execution_count": 61,
   "metadata": {
    "tags": []
   },
   "outputs": [],
   "source": [
    "output12 = \"\"\n",
    "\n",
    "# Write your solution here\n",
    "\n"
   ]
  },
  {
   "cell_type": "markdown",
   "metadata": {},
   "source": [
    "#### Question 13&nbsp;&nbsp;&nbsp;&nbsp;&nbsp;&nbsp;(4 Points)\n",
    "Write a Python program that iterates from 200 to 250 (including both 200 and 250) using while loops and perform the following. Create the variable `output13` and use it inside the while loop to construct the string that you want to display at the end of the program.\n",
    "\n",
    "1. If a number is a multiply of 3, display \"NUMBER is a multiply of 3!\" (*Note: NUMBER should be replaced with the value at that iteration*)\n",
    "2. If a number is a multiply of 5, display \"NUMBER is a multiply of 5!\" (*Note: NUMBER should be replaced with the value at that iteration*)\n",
    "3. If a number is a multiply of 3 as well as multiply of 5, display \"NUMBER is a multiply of both 3 and 5!\" (*Note: NUMBER should be replaced with the value at that iteration*)\n",
    "\n",
    "*Note: The displayed string should be in the same format as in Q1.*"
   ]
  },
  {
   "cell_type": "code",
   "execution_count": 62,
   "metadata": {
    "tags": []
   },
   "outputs": [],
   "source": [
    "output13 = \"\"\n",
    "\n",
    "# Write your solution here\n",
    "\n"
   ]
  },
  {
   "cell_type": "markdown",
   "metadata": {},
   "source": [
    "#### Question 14&nbsp;&nbsp;&nbsp;&nbsp;&nbsp;&nbsp;(4 Points)\n",
    "Create the variable `q14_num` and assign 1912 to it. Write a Python program to reverse `q14_num` using while loop and arithmetic operations. For example, if `q14_num` is 1912, the reversed number is 2191. Create the variable `output14` and assign the reversed number to it. However, if a user has mistakenly assign one digit number (i.e., 0-9) to `q14_num`, `output14`should be the string \"Please enter at least two digits to perform operations\". Print `output14` at the end of the prohram to check if it works correctly."
   ]
  },
  {
   "cell_type": "code",
   "execution_count": 63,
   "metadata": {
    "tags": []
   },
   "outputs": [
    {
     "data": {
      "text/plain": [
       "2191"
      ]
     },
     "execution_count": 63,
     "metadata": {},
     "output_type": "execute_result"
    }
   ],
   "source": [
    "q14_num = 1912\n",
    "\n",
    "\n",
    "rev=\"\"\n",
    "if q14_num>10:\n",
    "    output14=0\n",
    "    Reminder=0\n",
    "    while(q14_num > 0):    \n",
    "        Reminder = q14_num %10    \n",
    "        output14 = (output14 *10) + Reminder    \n",
    "        q14_num = q14_num //10  \n",
    "elif q14_num<10 :\n",
    "    output14=\"Please enter at least two digits to perform operations\"\n",
    "\n",
    "\n",
    "output14"
   ]
  },
  {
   "cell_type": "markdown",
   "metadata": {},
   "source": [
    "#### Question 15 &nbsp;&nbsp;&nbsp;&nbsp;&nbsp;&nbsp;(4 Points) \n",
    "Write a Python program to display the series of `2, 22, 222, 2222, ..., n terms` till n terms using while loops.\n",
    "\n",
    "For this question, create `q15_n` variable (that represents `n` in the series) and assign 20 to it. Create the variable `output15` and use it inside the while loop to construct the string that you want to display at the end of the program.\n",
    "\n",
    "*Note: The displayed string should be in the same format as in Q1.*"
   ]
  },
  {
   "cell_type": "code",
   "execution_count": 98,
   "metadata": {
    "tags": []
   },
   "outputs": [
    {
     "data": {
      "text/plain": [
       "'2\\n22\\n222\\n2222\\n22222\\n222222\\n2222222\\n22222222\\n222222222\\n2222222222\\n22222222222\\n222222222222\\n2222222222222\\n22222222222222\\n222222222222222\\n2222222222222222\\n22222222222222222\\n222222222222222222\\n2222222222222222222\\n22222222222222222222'"
      ]
     },
     "execution_count": 98,
     "metadata": {},
     "output_type": "execute_result"
    }
   ],
   "source": [
    "q15_n = 20\n",
    "output15=\"\"\n",
    "\n",
    "for i in range (q15_n):\n",
    "    for j in range(i+1):\n",
    "        output15+=\"2\"\n",
    "    output15+=\"\\n\"\n",
    "    \n",
    " \n",
    "output15=output15[:-1].strip()\n",
    "output15\n",
    "# Write your solution here\n",
    "\n",
    "\n"
   ]
  },
  {
   "cell_type": "markdown",
   "metadata": {},
   "source": [
    "#### Question 16 &nbsp;&nbsp;&nbsp;&nbsp;&nbsp;&nbsp;(4 Points)\n",
    "Write a Python program to find the sum of following series: 1 + 4 - 9 + 16 - 25 + 36 ... n terms.\n",
    "\n",
    "For this question, create `q16_n` variable (that represents `n` in the series) and assign 20 to it. Create the variable `output16` and assign the solution to it."
   ]
  },
  {
   "cell_type": "code",
   "execution_count": 65,
   "metadata": {
    "tags": []
   },
   "outputs": [
    {
     "data": {
      "text/plain": [
       "212"
      ]
     },
     "execution_count": 65,
     "metadata": {},
     "output_type": "execute_result"
    }
   ],
   "source": [
    "q16_n = 20\n",
    "output16=0\n",
    "for i in range(2,q16_n+1):\n",
    "    \n",
    "    if i%2==0:\n",
    "  \n",
    "        output16+=i**2\n",
    "    else:\n",
    "        \n",
    "        output16-=i**2\n",
    "        \n",
    "output16+=1       \n",
    "output16       \n",
    "# Write your solution here\n",
    "\n",
    "\n"
   ]
  },
  {
   "cell_type": "markdown",
   "metadata": {},
   "source": [
    "#### Question 17 &nbsp;&nbsp;&nbsp;&nbsp;&nbsp;&nbsp;(6 Points)\n",
    " Write a Python program to calculate factorial using while loop. Create a variable `q17_input` and assign the number 191 to it. To calculate the factorial use the following guidelines. Create a variable `output17` and assign the solution to it.\n",
    "\n",
    "* Factorial of number n is represented by `n!` and it is equal to `1*2*3*....*(n-1)*n`. For example, `4!` = `1*2*3*4` = 24\n",
    "* Note that 1! = 1 and 0! = 1"
   ]
  },
  {
   "cell_type": "code",
   "execution_count": 66,
   "metadata": {
    "tags": []
   },
   "outputs": [
    {
     "name": "stdout",
     "output_type": "stream",
     "text": [
      "1848941630973752588819559184291528260234868800748408811903414244709323983074218587659329898912306172360114330860464468736986865023838872462695380757512438036901650776605459478797800350707553256022912105863632666857472153971092009065677258893759594079568220432651120989901182064402330506648926574264895332679680000000000000000000000000000000000000000000000\n"
     ]
    }
   ],
   "source": [
    "q17_input = 191\n",
    "output17=1\n",
    "\n",
    "if q17_input==1:\n",
    "    output17=1\n",
    "elif q17_input==0:\n",
    "    output17=1\n",
    "else :\n",
    "    i=1\n",
    "    while(i<=q17_input):\n",
    "        \n",
    "        output17=i*output17\n",
    "       \n",
    "        i+=1\n",
    "print(output17)\n",
    "# Write your solution here\n",
    "\n",
    "\n"
   ]
  },
  {
   "cell_type": "markdown",
   "metadata": {},
   "source": [
    "#### Question 18 &nbsp;&nbsp;&nbsp;&nbsp;&nbsp;&nbsp;(6 Points)\n",
    "Write a Python program to display the following pattern using while loops. Create the variable `output18` and use it inside the while loop to construct the string that you want to display at the end of the program.\n",
    "<p>\n",
    "    &nbsp;&nbsp;&nbsp;&nbsp;*  <br>\n",
    "  &nbsp;&nbsp;&nbsp;*** <br>\n",
    "  &nbsp;&nbsp;***** <br>\n",
    "&nbsp;******* <br>\n",
    "********* <br>\n",
    "&nbsp;******* <br>\n",
    "&nbsp;&nbsp;***** <br>\n",
    "   &nbsp;&nbsp;&nbsp;*** <br>\n",
    "    &nbsp;&nbsp;&nbsp;&nbsp;*  <br>\n",
    "</p>\n",
    "\n",
    "***\n",
    "<details>\n",
    "  <summary><span style=\"color:blue\">Click to see Hints</span></summary>\n",
    "    \n",
    "* You may need to use two while loops to print the first half and second half of the pattern.\n",
    "* You may need to use `break` statement as practiced in Question 8.\n",
    "</details>"
   ]
  },
  {
   "cell_type": "code",
   "execution_count": 67,
   "metadata": {
    "tags": []
   },
   "outputs": [],
   "source": [
    "output18 = \"\"\n",
    "\n",
    "# Write your solution here\n",
    "\n"
   ]
  },
  {
   "cell_type": "markdown",
   "metadata": {},
   "source": [
    "#### Question 19 &nbsp;&nbsp;&nbsp;&nbsp;&nbsp;&nbsp;(6 Points)\n",
    "Write a Python program to reverse a given number using while loop. Create a variable `q19_input` and assign the number 121019200109 to it. Use the variable `output19` and assign the solution to it."
   ]
  },
  {
   "cell_type": "code",
   "execution_count": 88,
   "metadata": {
    "tags": []
   },
   "outputs": [
    {
     "data": {
      "text/plain": [
       "901002910121"
      ]
     },
     "execution_count": 88,
     "metadata": {},
     "output_type": "execute_result"
    }
   ],
   "source": [
    "q19_input = 121019200109\n",
    "output19=0\n",
    "Reminder=0\n",
    "\n",
    "while(q19_input > 0):    \n",
    "        Reminder = q19_input %10    \n",
    "        output19 = (output19 *10) + Reminder    \n",
    "        q19_input = q19_input //10  \n",
    "\n",
    "output19\n",
    "# Write your solution here\n",
    "\n",
    "\n"
   ]
  },
  {
   "cell_type": "markdown",
   "metadata": {},
   "source": [
    "#### Question 20 &nbsp;&nbsp;&nbsp;&nbsp;&nbsp;&nbsp;(6 Points)\n",
    "Write a Python program to find the sum of the following series using a while loop.  \n",
    "$1 +\\frac{y}{1!} + \\frac{y^2}{2!} + ... + \\frac{y^n}{n!}$\n",
    "\n",
    "Use the following guidelines when developing the program.\n",
    "\n",
    "* Create two variables `q20_y` and `q20_n` and assign the values 6 and 26 (Note that `q20_y` and `q20_n` represent `y` and `n` in the above-mentioned series).\n",
    "* The sum should be ronded to the nearest integer value. Create the variable `output20` and assign the solution to it."
   ]
  },
  {
   "cell_type": "code",
   "execution_count": 69,
   "metadata": {
    "tags": []
   },
   "outputs": [],
   "source": [
    "q20_y, q20_n = 6, 26\n",
    "\n",
    "# Write your solution here\n",
    "\n"
   ]
  },
  {
   "cell_type": "markdown",
   "metadata": {},
   "source": [
    "#### Question 21 &nbsp;&nbsp;&nbsp;&nbsp;&nbsp;&nbsp;(6 Points)\n",
    "Write a Python program to check whether a number is palindrome or not using while loop.\n",
    "Palindrome is a sequence which reads the same backward as forward. Examples of palindromes are mentioned below.\n",
    "* 12344321\n",
    "* 2002\n",
    "* 19191\n",
    "\n",
    "Create the variable `q21_input` and assign 12123454321 to it. If `q21_input` is a palindrome assign the string \"This is a palindrome\" to `output21`. Otherwise, `output21` should be \"This is not a palindrome\""
   ]
  },
  {
   "cell_type": "code",
   "execution_count": 96,
   "metadata": {
    "tags": []
   },
   "outputs": [
    {
     "name": "stdout",
     "output_type": "stream",
     "text": [
      "0\n"
     ]
    }
   ],
   "source": [
    "q21_input = 19191\n",
    "q21_input_copy=0\n",
    "i=0\n",
    "s=\"\"\n",
    "\n",
    "while q21_input<=0:\n",
    "    Reminder = q21_input %10    \n",
    "    q21_input_copy = (q21_input *10) + Reminder    \n",
    "    q21_input = q21_input //10  \n",
    "print(q21_input_copy)\n",
    "if q21_input==q21_input_copy:\n",
    "    output21=\"This is a palindrome\" \n",
    "else:\n",
    "    output21=\"This is not a palindrome\"     \n",
    "    \n",
    "# Write your solution here\n",
    "\n"
   ]
  },
  {
   "cell_type": "markdown",
   "metadata": {},
   "source": [
    "#### Question 22 &nbsp;&nbsp;&nbsp;&nbsp;&nbsp;&nbsp;(6 Points)\n",
    "Write a Python program that displays sum of odd numbers and even numbers separately that fall between two given numbers `q22_num1` and `q22_num2` (including both numbers) using while loop. Use the following guidelines to develop this program.\n",
    "\n",
    "* For this question, assign the values 21 and 9 to the two variables `q22_num1` and `q22_num2`, respectively.\n",
    "* Use the two variables `output22_odd` and `output22_even` to assign the sum of odd numbers and the sum of even numbers, respectively."
   ]
  },
  {
   "cell_type": "code",
   "execution_count": 71,
   "metadata": {
    "tags": []
   },
   "outputs": [],
   "source": [
    "q22_num1 = 21\n",
    "q22_num2 = 9\n",
    "\n",
    "# Write your solution here\n",
    "\n"
   ]
  },
  {
   "cell_type": "markdown",
   "metadata": {},
   "source": [
    "#### Question 23 &nbsp;&nbsp;&nbsp;&nbsp;&nbsp;&nbsp;(10 Points)\n",
    "Write a Python program to display the following pattern using while loops. Create the variable `output23` and use it inside the while loop to construct the string that you want to display at the end of the program.\n",
    "<p>\n",
    " &nbsp;***<br>                                                                 \n",
    " *&nbsp;&nbsp;&nbsp;*<br>                                                                  \n",
    " *&nbsp;&nbsp;&nbsp;*<br>                                                                  \n",
    " *&nbsp;&nbsp;&nbsp;*<br>                                                                  \n",
    " *&nbsp;&nbsp;&nbsp;*<br>                                                                  \n",
    " *&nbsp;&nbsp;&nbsp;*<br>                                                                  \n",
    "&nbsp;*** \n",
    "</p>"
   ]
  },
  {
   "cell_type": "code",
   "execution_count": 143,
   "metadata": {
    "tags": []
   },
   "outputs": [
    {
     "data": {
      "text/plain": [
       "'  ***  \\n *   * \\n *   * \\n *   * \\n *   * \\n *   * \\n  ***'"
      ]
     },
     "execution_count": 143,
     "metadata": {},
     "output_type": "execute_result"
    }
   ],
   "source": [
    "output23 = \"\" \n",
    "i=0\n",
    "while (i<7):\n",
    "   \n",
    "    if i==0 or i==6:\n",
    "        output23+=\"  ***  \\n\"\n",
    "    else:\n",
    "        output23+=\" *   * \\n\"\n",
    "    i=i+1\n",
    "    \n",
    "output23=output23.rstrip()\n",
    "        \n",
    "# Write your solution here\n",
    "\n",
    "output23\n"
   ]
  },
  {
   "cell_type": "markdown",
   "metadata": {},
   "source": [
    "#### Question 24 &nbsp;&nbsp;&nbsp;&nbsp;&nbsp;&nbsp;(10 Points)\n",
    "Write a Python program to display the following pattern using while loops. Create the variable `output24` and use it inside the while loop to construct the string that you want to display at the end of the program.\n",
    "\n",
    "<p>\n",
    "    * * * * *<br> \n",
    "&nbsp;* * * *<br> \n",
    "&nbsp;&nbsp;* * *<br> \n",
    "&nbsp;&nbsp;&nbsp;* *<br> \n",
    "&nbsp;&nbsp;&nbsp;&nbsp;*<br> \n",
    "&nbsp;&nbsp;&nbsp;&nbsp;*<br> \n",
    "&nbsp;&nbsp;&nbsp;* *<br> \n",
    "&nbsp;&nbsp;* * *<br> \n",
    "&nbsp;* * * *<br> \n",
    "* * * * *<br>\n",
    "</p>"
   ]
  },
  {
   "cell_type": "code",
   "execution_count": 141,
   "metadata": {
    "tags": []
   },
   "outputs": [
    {
     "data": {
      "text/plain": [
       "'* * * * * \\n * * * * \\n  * * * \\n   * * \\n    * \\n'"
      ]
     },
     "execution_count": 141,
     "metadata": {},
     "output_type": "execute_result"
    }
   ],
   "source": [
    "output24 = \"\"\n",
    "\n",
    "# Write your solution here\n",
    "out1,out2=\"\",\"\"\n",
    "\n",
    "f=0\n",
    "for i in range(5,0,-1):\n",
    "    x=\"\"\n",
    "    for k in range(f):\n",
    "        x+=\" \"\n",
    "    f=f+1\n",
    "    for j in range(i):\n",
    "        x+=\"* \"\n",
    "    x+='\\n'\n",
    "    out1+=x\n",
    "out1"
   ]
  },
  {
   "cell_type": "code",
   "execution_count": 136,
   "metadata": {},
   "outputs": [
    {
     "data": {
      "text/plain": [
       "'    \\n   \\n  \\n \\n'"
      ]
     },
     "execution_count": 136,
     "metadata": {},
     "output_type": "execute_result"
    }
   ],
   "source": [
    "output=\"\"\n",
    "for  i in range(1,5):\n",
    "    for j in range(0,5-i):\n",
    "        output+=\" \"\n",
    "    for k in range(i,0):\n",
    "        \n",
    "        output+=k\n",
    "    output+=\"\\n\"\n",
    "output       "
   ]
  },
  {
   "cell_type": "code",
   "execution_count": null,
   "metadata": {},
   "outputs": [],
   "source": []
  }
 ],
 "metadata": {
  "celltoolbar": "Edit Metadata",
  "kernelspec": {
   "display_name": "Python 3 (ipykernel)",
   "language": "python",
   "name": "python3"
  },
  "language_info": {
   "codemirror_mode": {
    "name": "ipython",
    "version": 3
   },
   "file_extension": ".py",
   "mimetype": "text/x-python",
   "name": "python",
   "nbconvert_exporter": "python",
   "pygments_lexer": "ipython3",
   "version": "3.9.7"
  },
  "otter": {
   "tests": {
    "Question 01": {
     "name": "Question 01",
     "points": 1,
     "suites": [
      {
       "cases": [],
       "scored": true,
       "setup": "",
       "teardown": "",
       "type": "doctest"
      }
     ]
    },
    "Question 02": {
     "name": "Question 02",
     "points": 1,
     "suites": [
      {
       "cases": [],
       "scored": true,
       "setup": "",
       "teardown": "",
       "type": "doctest"
      }
     ]
    },
    "Question 03": {
     "name": "Question 03",
     "points": 1,
     "suites": [
      {
       "cases": [],
       "scored": true,
       "setup": "",
       "teardown": "",
       "type": "doctest"
      }
     ]
    },
    "Question 04": {
     "name": "Question 04",
     "points": 1,
     "suites": [
      {
       "cases": [],
       "scored": true,
       "setup": "",
       "teardown": "",
       "type": "doctest"
      }
     ]
    },
    "Question 05": {
     "name": "Question 05",
     "points": 1,
     "suites": [
      {
       "cases": [],
       "scored": true,
       "setup": "",
       "teardown": "",
       "type": "doctest"
      }
     ]
    },
    "Question 06": {
     "name": "Question 06",
     "points": 3,
     "suites": [
      {
       "cases": [],
       "scored": true,
       "setup": "",
       "teardown": "",
       "type": "doctest"
      }
     ]
    },
    "Question 07": {
     "name": "Question 07",
     "points": 3,
     "suites": [
      {
       "cases": [],
       "scored": true,
       "setup": "",
       "teardown": "",
       "type": "doctest"
      }
     ]
    },
    "Question 08": {
     "name": "Question 08",
     "points": 3,
     "suites": [
      {
       "cases": [],
       "scored": true,
       "setup": "",
       "teardown": "",
       "type": "doctest"
      }
     ]
    },
    "Question 09": {
     "name": "Question 09",
     "points": 3,
     "suites": [
      {
       "cases": [],
       "scored": true,
       "setup": "",
       "teardown": "",
       "type": "doctest"
      }
     ]
    },
    "Question 10": {
     "name": "Question 10",
     "points": 3,
     "suites": [
      {
       "cases": [],
       "scored": true,
       "setup": "",
       "teardown": "",
       "type": "doctest"
      }
     ]
    },
    "Question 11": {
     "name": "Question 11",
     "points": 4,
     "suites": [
      {
       "cases": [],
       "scored": true,
       "setup": "",
       "teardown": "",
       "type": "doctest"
      }
     ]
    },
    "Question 12": {
     "name": "Question 12",
     "points": 4,
     "suites": [
      {
       "cases": [],
       "scored": true,
       "setup": "",
       "teardown": "",
       "type": "doctest"
      }
     ]
    },
    "Question 13": {
     "name": "Question 13",
     "points": 4,
     "suites": [
      {
       "cases": [],
       "scored": true,
       "setup": "",
       "teardown": "",
       "type": "doctest"
      }
     ]
    },
    "Question 14": {
     "name": "Question 14",
     "points": 4,
     "suites": [
      {
       "cases": [],
       "scored": true,
       "setup": "",
       "teardown": "",
       "type": "doctest"
      }
     ]
    },
    "Question 15": {
     "name": "Question 15",
     "points": 4,
     "suites": [
      {
       "cases": [],
       "scored": true,
       "setup": "",
       "teardown": "",
       "type": "doctest"
      }
     ]
    },
    "Question 16": {
     "name": "Question 16",
     "points": 4,
     "suites": [
      {
       "cases": [],
       "scored": true,
       "setup": "",
       "teardown": "",
       "type": "doctest"
      }
     ]
    },
    "Question 17": {
     "name": "Question 17",
     "points": 6,
     "suites": [
      {
       "cases": [],
       "scored": true,
       "setup": "",
       "teardown": "",
       "type": "doctest"
      }
     ]
    },
    "Question 18": {
     "name": "Question 18",
     "points": 6,
     "suites": [
      {
       "cases": [],
       "scored": true,
       "setup": "",
       "teardown": "",
       "type": "doctest"
      }
     ]
    },
    "Question 19": {
     "name": "Question 19",
     "points": 6,
     "suites": [
      {
       "cases": [],
       "scored": true,
       "setup": "",
       "teardown": "",
       "type": "doctest"
      }
     ]
    },
    "Question 20": {
     "name": "Question 20",
     "points": 6,
     "suites": [
      {
       "cases": [],
       "scored": true,
       "setup": "",
       "teardown": "",
       "type": "doctest"
      }
     ]
    },
    "Question 21": {
     "name": "Question 21",
     "points": 6,
     "suites": [
      {
       "cases": [],
       "scored": true,
       "setup": "",
       "teardown": "",
       "type": "doctest"
      }
     ]
    },
    "Question 22": {
     "name": "Question 22",
     "points": 6,
     "suites": [
      {
       "cases": [
        {
         "code": ">>> output22_even\n90",
         "hidden": false,
         "locked": false
        }
       ],
       "scored": true,
       "setup": "",
       "teardown": "",
       "type": "doctest"
      }
     ]
    },
    "Question 23": {
     "name": "Question 23",
     "points": 10,
     "suites": [
      {
       "cases": [],
       "scored": true,
       "setup": "",
       "teardown": "",
       "type": "doctest"
      }
     ]
    },
    "Question 24": {
     "name": "Question 24",
     "points": 10,
     "suites": [
      {
       "cases": [],
       "scored": true,
       "setup": "",
       "teardown": "",
       "type": "doctest"
      }
     ]
    }
   }
  },
  "varInspector": {
   "cols": {
    "lenName": 16,
    "lenType": 16,
    "lenVar": 40
   },
   "kernels_config": {
    "python": {
     "delete_cmd_postfix": "",
     "delete_cmd_prefix": "del ",
     "library": "var_list.py",
     "varRefreshCmd": "print(var_dic_list())"
    },
    "r": {
     "delete_cmd_postfix": ") ",
     "delete_cmd_prefix": "rm(",
     "library": "var_list.r",
     "varRefreshCmd": "cat(var_dic_list()) "
    }
   },
   "types_to_exclude": [
    "module",
    "function",
    "builtin_function_or_method",
    "instance",
    "_Feature"
   ],
   "window_display": false
  }
 },
 "nbformat": 4,
 "nbformat_minor": 4
}
